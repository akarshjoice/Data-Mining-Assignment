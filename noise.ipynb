{
 "cells": [
  {
   "cell_type": "code",
   "execution_count": 13,
   "metadata": {},
   "outputs": [],
   "source": [
    "import pandas as pd\n",
    "df = pd.read_csv(\"loan_data_set.csv\")\n",
    "#print (df.head())"
   ]
  },
  {
   "cell_type": "code",
   "execution_count": 15,
   "metadata": {},
   "outputs": [
    {
     "name": "stdout",
     "output_type": "stream",
     "text": [
      "                   Total   Percent\n",
      "Loan_ID                0  0.000000\n",
      "Gender                13  0.021173\n",
      "Married                3  0.004886\n",
      "Dependents            15  0.024430\n",
      "Education              0  0.000000\n",
      "Self_Employed         32  0.052117\n",
      "ApplicantIncome        0  0.000000\n",
      "CoapplicantIncome      0  0.000000\n",
      "LoanAmount            22  0.035831\n",
      "Loan_Amount_Term      14  0.022801\n",
      "Credit_History        50  0.081433\n",
      "Property_Area          0  0.000000\n",
      "Loan_Status            0  0.000000\n"
     ]
    },
    {
     "data": {
      "text/html": [
       "<div>\n",
       "<style scoped>\n",
       "    .dataframe tbody tr th:only-of-type {\n",
       "        vertical-align: middle;\n",
       "    }\n",
       "\n",
       "    .dataframe tbody tr th {\n",
       "        vertical-align: top;\n",
       "    }\n",
       "\n",
       "    .dataframe thead th {\n",
       "        text-align: right;\n",
       "    }\n",
       "</style>\n",
       "<table border=\"1\" class=\"dataframe\">\n",
       "  <thead>\n",
       "    <tr style=\"text-align: right;\">\n",
       "      <th></th>\n",
       "      <th>Total</th>\n",
       "      <th>Percent</th>\n",
       "    </tr>\n",
       "  </thead>\n",
       "  <tbody>\n",
       "    <tr>\n",
       "      <th>Loan_ID</th>\n",
       "      <td>0</td>\n",
       "      <td>0.000000</td>\n",
       "    </tr>\n",
       "    <tr>\n",
       "      <th>Gender</th>\n",
       "      <td>13</td>\n",
       "      <td>0.021173</td>\n",
       "    </tr>\n",
       "    <tr>\n",
       "      <th>Married</th>\n",
       "      <td>3</td>\n",
       "      <td>0.004886</td>\n",
       "    </tr>\n",
       "    <tr>\n",
       "      <th>Dependents</th>\n",
       "      <td>15</td>\n",
       "      <td>0.024430</td>\n",
       "    </tr>\n",
       "    <tr>\n",
       "      <th>Education</th>\n",
       "      <td>0</td>\n",
       "      <td>0.000000</td>\n",
       "    </tr>\n",
       "  </tbody>\n",
       "</table>\n",
       "</div>"
      ],
      "text/plain": [
       "            Total   Percent\n",
       "Loan_ID         0  0.000000\n",
       "Gender         13  0.021173\n",
       "Married         3  0.004886\n",
       "Dependents     15  0.024430\n",
       "Education       0  0.000000"
      ]
     },
     "execution_count": 15,
     "metadata": {},
     "output_type": "execute_result"
    },
    {
     "data": {
      "text/plain": [
       "<Figure size 1080x576 with 0 Axes>"
      ]
     },
     "metadata": {},
     "output_type": "display_data"
    },
    {
     "data": {
      "image/png": "[encoded data removed]",
      "text/plain": [
       "<Figure size 1080x432 with 1 Axes>"
      ]
     },
     "metadata": {
      "needs_background": "light"
     },
     "output_type": "display_data"
    }
   ],
   "source": [
    "#replacing all missing values by mean\n",
    "#df.fillna(df.mean(),inplace=True)\n",
    "#print (df.head())\n",
    "import seaborn as sns\n",
    "import matplotlib.pyplot as plt\n",
    "plt.figure(figsize=(15,8))\n",
    "#sns.distplot(df.column_name, bins =30)\n",
    "\n",
    "pmd=df\n",
    "total=pmd.isnull().sum()\n",
    "percent=(pmd.isnull().sum()/pmd.isnull().count())\n",
    "missingData=pd.concat([total,percent],axis=1,keys=['Total','Percent'])\n",
    "print (missingData)\n",
    "f, ax = plt.subplots(figsize=(15, 6))\n",
    "plt.xticks(rotation='90')\n",
    "sns.barplot(x=missingData.index, y=missingData['Percent'])\n",
    "plt.xlabel('Features', fontsize=15)\n",
    "plt.ylabel('Percent of missing values', fontsize=15)\n",
    "plt.title('Percent missing data by feature', fontsize=15)\n",
    "missingData.head()"
   ]
  },
  {
   "cell_type": "code",
   "execution_count": 16,
   "metadata": {},
   "outputs": [
    {
     "name": "stdout",
     "output_type": "stream",
     "text": [
      "0      NaN\n",
      "1    128.0\n",
      "2     66.0\n",
      "3    120.0\n",
      "4    141.0\n",
      "Name: LoanAmount, dtype: float64\n",
      "1    128.0\n",
      "2     66.0\n",
      "3    120.0\n",
      "4    141.0\n",
      "5    267.0\n",
      "Name: LoanAmount, dtype: float64\n"
     ]
    }
   ],
   "source": [
    "#data cleaning\n",
    "#method 1->ignore the data row containing missing values..\n",
    "dframe= pd.read_csv(\"loan_data_set.csv\")\n",
    "print(dframe['LoanAmount'].head())\n",
    "dframe.isnull().count()\n",
    "dframe.dropna(inplace=True)\n",
    "print (dframe['LoanAmount'].head())\n",
    "#dframe.count()"
   ]
  },
  {
   "cell_type": "code",
   "execution_count": 4,
   "metadata": {},
   "outputs": [
    {
     "name": "stdout",
     "output_type": "stream",
     "text": [
      "0    128.0\n",
      "1    128.0\n",
      "2     66.0\n",
      "3    120.0\n",
      "4    141.0\n",
      "Name: LoanAmount, dtype: float64\n"
     ]
    }
   ],
   "source": [
    "#for back fill\n",
    "\n",
    "dframe= pd.read_csv(\"loan_data_set.csv\")\n",
    "dframe.fillna(method='bfill',inplace=True)#for forward-fill\n",
    "print(dframe['LoanAmount'].head())\n",
    "dframe.fillna(method='ffill',inplace=True)#forbackward fill"
   ]
  },
  {
   "cell_type": "code",
   "execution_count": 5,
   "metadata": {},
   "outputs": [
    {
     "name": "stdout",
     "output_type": "stream",
     "text": [
      "0     99.0\n",
      "1    128.0\n",
      "2     66.0\n",
      "3    120.0\n",
      "4    141.0\n",
      "Name: LoanAmount, dtype: float64\n"
     ]
    }
   ],
   "source": [
    "#replace with constant\n",
    "dframe= pd.read_csv(\"loan_data_set.csv\")\n",
    "dframe.LoanAmount.fillna(99,inplace=True)\n",
    "print(dframe['LoanAmount'].head())"
   ]
  },
  {
   "cell_type": "code",
   "execution_count": 6,
   "metadata": {},
   "outputs": [
    {
     "name": "stdout",
     "output_type": "stream",
     "text": [
      "0    146.412162\n",
      "1    128.000000\n",
      "2     66.000000\n",
      "3    120.000000\n",
      "4    141.000000\n",
      "Name: LoanAmount, dtype: float64\n"
     ]
    }
   ],
   "source": [
    "dframe= pd.read_csv(\"loan_data_set.csv\")\n",
    "dframe.LoanAmount.fillna(dframe.LoanAmount.mean(),inplace=True)#by mean\n",
    "print(dframe.LoanAmount.head())"
   ]
  },
  {
   "cell_type": "code",
   "execution_count": 7,
   "metadata": {},
   "outputs": [
    {
     "name": "stdout",
     "output_type": "stream",
     "text": [
      "0    128.0\n",
      "1    128.0\n",
      "2     66.0\n",
      "3    120.0\n",
      "4    141.0\n",
      "Name: LoanAmount, dtype: float64\n"
     ]
    }
   ],
   "source": [
    "dframe= pd.read_csv(\"loan_data_set.csv\")\n",
    "dframe.LoanAmount.fillna(dframe.LoanAmount.median(),inplace=True)#by median\n",
    "print(dframe.LoanAmount.head())"
   ]
  },
  {
   "cell_type": "code",
   "execution_count": 8,
   "metadata": {},
   "outputs": [
    {
     "ename": "NameError",
     "evalue": "name 'np' is not defined",
     "output_type": "error",
     "traceback": [
      "\u001b[0;31m---------------------------------------------------------------------------\u001b[0m",
      "\u001b[0;31mNameError\u001b[0m                                 Traceback (most recent call last)",
      "\u001b[0;32m<ipython-input-8-7dc911aafc29>\u001b[0m in \u001b[0;36m<module>\u001b[0;34m\u001b[0m\n\u001b[1;32m      4\u001b[0m \u001b[0mLoanAmountStd\u001b[0m\u001b[0;34m=\u001b[0m\u001b[0mdframe\u001b[0m\u001b[0;34m[\u001b[0m\u001b[0;34m'LoanAmount'\u001b[0m\u001b[0;34m]\u001b[0m\u001b[0;34m.\u001b[0m\u001b[0mstd\u001b[0m\u001b[0;34m(\u001b[0m\u001b[0;34m)\u001b[0m\u001b[0;34m\u001b[0m\u001b[0;34m\u001b[0m\u001b[0m\n\u001b[1;32m      5\u001b[0m \u001b[0mLoanAmountNullCt\u001b[0m\u001b[0;34m=\u001b[0m\u001b[0mdframe\u001b[0m\u001b[0;34m[\u001b[0m\u001b[0;34m'LoanAmount'\u001b[0m\u001b[0;34m]\u001b[0m\u001b[0;34m.\u001b[0m\u001b[0misnull\u001b[0m\u001b[0;34m(\u001b[0m\u001b[0;34m)\u001b[0m\u001b[0;34m.\u001b[0m\u001b[0msum\u001b[0m\u001b[0;34m(\u001b[0m\u001b[0;34m)\u001b[0m\u001b[0;34m;\u001b[0m\u001b[0;34m\u001b[0m\u001b[0;34m\u001b[0m\u001b[0m\n\u001b[0;32m----> 6\u001b[0;31m \u001b[0mLoanAmountNullRl\u001b[0m\u001b[0;34m=\u001b[0m\u001b[0mnp\u001b[0m\u001b[0;34m.\u001b[0m\u001b[0mrandom\u001b[0m\u001b[0;34m.\u001b[0m\u001b[0mrandint\u001b[0m\u001b[0;34m(\u001b[0m\u001b[0mLoanAmountAverage\u001b[0m\u001b[0;34m-\u001b[0m\u001b[0mLoanAmountStd\u001b[0m\u001b[0;34m,\u001b[0m\u001b[0mLoanAmountAverage\u001b[0m\u001b[0;34m+\u001b[0m\u001b[0mLoanAmountStd\u001b[0m\u001b[0;34m,\u001b[0m\u001b[0msize\u001b[0m\u001b[0;34m=\u001b[0m\u001b[0mLoanAmountNullCt\u001b[0m\u001b[0;34m)\u001b[0m\u001b[0;34m\u001b[0m\u001b[0;34m\u001b[0m\u001b[0m\n\u001b[0m\u001b[1;32m      7\u001b[0m \u001b[0mdframe\u001b[0m\u001b[0;34m[\u001b[0m\u001b[0;34m'LoanAmount'\u001b[0m\u001b[0;34m]\u001b[0m\u001b[0;34m[\u001b[0m\u001b[0mnp\u001b[0m\u001b[0;34m.\u001b[0m\u001b[0misnan\u001b[0m\u001b[0;34m(\u001b[0m\u001b[0mdframe\u001b[0m\u001b[0;34m[\u001b[0m\u001b[0;34m'LoanAmount'\u001b[0m\u001b[0;34m]\u001b[0m\u001b[0;34m)\u001b[0m\u001b[0;34m]\u001b[0m\u001b[0;34m=\u001b[0m\u001b[0mLoanAmountNullRl\u001b[0m\u001b[0;34m\u001b[0m\u001b[0;34m\u001b[0m\u001b[0m\n\u001b[1;32m      8\u001b[0m \u001b[0mprint\u001b[0m\u001b[0;34m(\u001b[0m\u001b[0mdframe\u001b[0m\u001b[0;34m.\u001b[0m\u001b[0mLoanAmount\u001b[0m\u001b[0;34m.\u001b[0m\u001b[0mhead\u001b[0m\u001b[0;34m(\u001b[0m\u001b[0;34m)\u001b[0m\u001b[0;34m)\u001b[0m\u001b[0;34m\u001b[0m\u001b[0;34m\u001b[0m\u001b[0m\n",
      "\u001b[0;31mNameError\u001b[0m: name 'np' is not defined"
     ]
    }
   ],
   "source": [
    "#now we are gonna insert mean values but within +- standard deviation\n",
    "dframe= pd.read_csv(\"loan_data_set.csv\")\n",
    "LoanAmountAverage=dframe['LoanAmount'].mean()\n",
    "LoanAmountStd=dframe['LoanAmount'].std()\n",
    "LoanAmountNullCt=dframe['LoanAmount'].isnull().sum();\n",
    "LoanAmountNullRl=np.random.randint(LoanAmountAverage-LoanAmountStd,LoanAmountAverage+LoanAmountStd,size=LoanAmountNullCt)\n",
    "dframe['LoanAmount'][np.isnan(dframe['LoanAmount'])]=LoanAmountNullRl\n",
    "print(dframe.LoanAmount.head())\n",
    "dframe['LoanAmount'] = dframe['LoanAmount'].astype(int)"
   ]
  },
  {
   "cell_type": "code",
   "execution_count": 9,
   "metadata": {},
   "outputs": [],
   "source": [
    "from sklearn.experimental import enable_iterative_imputer\n",
    "from sklearn.impute import IterativeImputer\n",
    "from numpy import nan"
   ]
  },
  {
   "cell_type": "code",
   "execution_count": 10,
   "metadata": {},
   "outputs": [
    {
     "data": {
      "text/plain": [
       "IterativeImputer(add_indicator=False, estimator=None,\n",
       "                 imputation_order='ascending', initial_strategy='mean',\n",
       "                 max_iter=10, max_value=None, min_value=None,\n",
       "                 missing_values=nan, n_nearest_features=None, random_state=0,\n",
       "                 sample_posterior=False, tol=0.001, verbose=0)"
      ]
     },
     "execution_count": 10,
     "metadata": {},
     "output_type": "execute_result"
    }
   ],
   "source": [
    "df= pd.read_csv(\"loan_data_set.csv\")\n",
    "imp = IterativeImputer(max_iter=10, random_state=0)\n",
    "imp.fit(df[['CoapplicantIncome','LoanAmount']])\n",
    "IterativeImputer(add_indicator=False, estimator=None,\n",
    "                 imputation_order='ascending', initial_strategy='mean',\n",
    "                 max_iter=10, max_value=None, min_value=None,\n",
    "                 missing_values=nan, n_nearest_features=None,\n",
    "                 random_state=0, sample_posterior=False, tol=0.001,\n",
    "                 verbose=0)"
   ]
  },
  {
   "cell_type": "code",
   "execution_count": 11,
   "metadata": {},
   "outputs": [],
   "source": [
    "#print (df.head())\n",
    "dq=imp.transform(df[['CoapplicantIncome','LoanAmount']])\n"
   ]
  },
  {
   "cell_type": "code",
   "execution_count": 12,
   "metadata": {},
   "outputs": [
    {
     "name": "stdout",
     "output_type": "stream",
     "text": [
      "[[   0.          137.85795547]\n",
      " [1508.          128.        ]\n",
      " [   0.           66.        ]\n",
      " ...\n",
      " [ 240.          253.        ]\n",
      " [   0.          187.        ]\n",
      " [   0.          133.        ]]\n"
     ]
    }
   ],
   "source": [
    "print (dq)"
   ]
  },
  {
   "cell_type": "code",
   "execution_count": null,
   "metadata": {},
   "outputs": [],
   "source": []
  },
  {
   "cell_type": "code",
   "execution_count": null,
   "metadata": {},
   "outputs": [],
   "source": []
  }
 ],
 "metadata": {
  "kernelspec": {
   "display_name": "Python 3",
   "language": "python",
   "name": "python3"
  },
  "language_info": {
   "codemirror_mode": {
    "name": "ipython",
    "version": 3
   },
   "file_extension": ".py",
   "mimetype": "text/x-python",
   "name": "python",
   "nbconvert_exporter": "python",
   "pygments_lexer": "ipython3",
   "version": "3.7.3"
  }
 },
 "nbformat": 4,
 "nbformat_minor": 2
}
